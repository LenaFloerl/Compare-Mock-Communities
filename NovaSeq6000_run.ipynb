{
 "cells": [
  {
   "cell_type": "markdown",
   "metadata": {},
   "source": [
    "# Compare mock communities from the NovaSeq 6000 run \n",
    "\n",
    "These mock communities have been used as positive controls within the Alm Microbiome project (see analysis here: https://github.com/LenaFloerl/Alm-Microbiome.git).\n"
   ]
  },
  {
   "cell_type": "code",
   "execution_count": 1,
   "metadata": {},
   "outputs": [
    {
     "name": "stdout",
     "output_type": "stream",
     "text": [
      "/home/lfloerl/cloud/lfloerl/Alm-Microbiome/artifacts\n"
     ]
    }
   ],
   "source": [
    "wd = '/home/lfloerl/cloud/lfloerl/Alm-Microbiome/artifacts'\n",
    "%cd $wd "
   ]
  },
  {
   "cell_type": "code",
   "execution_count": 143,
   "metadata": {},
   "outputs": [],
   "source": [
    "import qiime2 as q2\n",
    "import qiime2.plugins.taxa.actions as taxa_actions\n",
    "from qiime2 import Visualization, Metadata, Artifact\n",
    "from qiime2.plugins.taxa.methods import collapse\n",
    "from qiime2.plugins.feature_table.methods import (merge_seqs, merge, filter_seqs, filter_samples, filter_features) \n",
    "import qiime2.plugins.feature_classifier.actions as feature_classifier_actions\n",
    "import qiime2.plugins.metadata.actions as metadata_actions\n",
    "from qiime2.plugins import taxa as q2t\n",
    "\n",
    "from biom import load_table\n",
    "import pandas as pd\n",
    "import matplotlib.pyplot as plt\n",
    "import seaborn as sns\n",
    "import matplotlib.patches as mpatches\n",
    "\n",
    "%matplotlib inline"
   ]
  },
  {
   "cell_type": "markdown",
   "metadata": {},
   "source": [
    "## Prepare metadata"
   ]
  },
  {
   "cell_type": "code",
   "execution_count": 110,
   "metadata": {},
   "outputs": [],
   "source": [
    "ctrl_md = pd.read_csv('/home/lfloerl/Compare-Mock-Communities/Metadata/NovaSeq6000-controls-metadata.csv')\n",
    "run_md = pd.read_csv('/home/lfloerl/Compare-Mock-Communities/Metadata/Order_35731_sample.csv')"
   ]
  },
  {
   "cell_type": "code",
   "execution_count": 116,
   "metadata": {},
   "outputs": [],
   "source": [
    "## ITS\n",
    "\n",
    "# Extract the part from the 'Name' in run_md\n",
    "run_md['ITS_ID'] = run_md['Name'].apply(lambda x: '-'.join(x.split('-')[-3:]))\n",
    "\n",
    "# merge\n",
    "fun_md = pd.merge(ctrl_md, run_md, left_on=ctrl_md['unique_ITS_ID'], right_on=run_md['ITS_ID'], how='left')\n",
    "fun_md.set_index('Name', inplace=True)\n",
    "fun_md.index.names = ['ID']\n",
    "fun_md.rename(columns={'Sample_ID':'Sample_Name'}, inplace=True)\n",
    "fun_md = fun_md[['Sample_Name', 'Ctrl', 'DNA_extraction_plate', 'Fungal Conc']]\n",
    "fun_md['Fungal Conc'] = pd.to_numeric(fun_md['Fungal Conc'], errors='coerce')\n",
    "# Replace NaN with 0 (optional, depends on how you want to handle NaNs)\n",
    "fun_md['Fungal Conc'].fillna(0.01, inplace=True)\n",
    "# Replace negative values with 0\n",
    "fun_md['Fungal Conc'] = fun_md['Fungal Conc'].apply(lambda x: max(x, 0.01))\n",
    "\n",
    "fun_md.to_csv('/home/lfloerl/Compare-Mock-Communities/Metadata/NovaSeq6000_fun_metadata.tsv', sep='\\t')"
   ]
  },
  {
   "cell_type": "code",
   "execution_count": 130,
   "metadata": {},
   "outputs": [
    {
     "data": {
      "text/html": [
       "<div>\n",
       "<style scoped>\n",
       "    .dataframe tbody tr th:only-of-type {\n",
       "        vertical-align: middle;\n",
       "    }\n",
       "\n",
       "    .dataframe tbody tr th {\n",
       "        vertical-align: top;\n",
       "    }\n",
       "\n",
       "    .dataframe thead th {\n",
       "        text-align: right;\n",
       "    }\n",
       "</style>\n",
       "<table border=\"1\" class=\"dataframe\">\n",
       "  <thead>\n",
       "    <tr style=\"text-align: right;\">\n",
       "      <th></th>\n",
       "      <th>Sample_Name</th>\n",
       "      <th>Ctrl</th>\n",
       "      <th>DNA_extraction_plate</th>\n",
       "      <th>Fungal Conc</th>\n",
       "    </tr>\n",
       "    <tr>\n",
       "      <th>ID</th>\n",
       "      <th></th>\n",
       "      <th></th>\n",
       "      <th></th>\n",
       "      <th></th>\n",
       "    </tr>\n",
       "  </thead>\n",
       "  <tbody>\n",
       "    <tr>\n",
       "      <th>357315_058-LP2-ITS-0058</th>\n",
       "      <td>DNA24_NegCtrl_1</td>\n",
       "      <td>neg</td>\n",
       "      <td>DNA24</td>\n",
       "      <td>0.019680</td>\n",
       "    </tr>\n",
       "    <tr>\n",
       "      <th>357315_088-LP2-ITS-0088</th>\n",
       "      <td>DNA24_NegCtrl_2</td>\n",
       "      <td>neg</td>\n",
       "      <td>DNA24</td>\n",
       "      <td>2.674231</td>\n",
       "    </tr>\n",
       "    <tr>\n",
       "      <th>357315_036-LP2-ITS-0036</th>\n",
       "      <td>DNA24_PosCtrl_1</td>\n",
       "      <td>pos</td>\n",
       "      <td>DNA24</td>\n",
       "      <td>4.563005</td>\n",
       "    </tr>\n",
       "    <tr>\n",
       "      <th>357315_094-LP2-ITS-0094</th>\n",
       "      <td>DNA24_PosCtrl_2</td>\n",
       "      <td>pos</td>\n",
       "      <td>DNA24</td>\n",
       "      <td>10.499125</td>\n",
       "    </tr>\n",
       "    <tr>\n",
       "      <th>357315_096-LP2-ITS-0096</th>\n",
       "      <td>DNA24_PosCtrl_3</td>\n",
       "      <td>pos</td>\n",
       "      <td>DNA24</td>\n",
       "      <td>12.921753</td>\n",
       "    </tr>\n",
       "  </tbody>\n",
       "</table>\n",
       "</div>"
      ],
      "text/plain": [
       "                             Sample_Name Ctrl DNA_extraction_plate  \\\n",
       "ID                                                                   \n",
       "357315_058-LP2-ITS-0058  DNA24_NegCtrl_1  neg                DNA24   \n",
       "357315_088-LP2-ITS-0088  DNA24_NegCtrl_2  neg                DNA24   \n",
       "357315_036-LP2-ITS-0036  DNA24_PosCtrl_1  pos                DNA24   \n",
       "357315_094-LP2-ITS-0094  DNA24_PosCtrl_2  pos                DNA24   \n",
       "357315_096-LP2-ITS-0096  DNA24_PosCtrl_3  pos                DNA24   \n",
       "\n",
       "                         Fungal Conc  \n",
       "ID                                    \n",
       "357315_058-LP2-ITS-0058     0.019680  \n",
       "357315_088-LP2-ITS-0088     2.674231  \n",
       "357315_036-LP2-ITS-0036     4.563005  \n",
       "357315_094-LP2-ITS-0094    10.499125  \n",
       "357315_096-LP2-ITS-0096    12.921753  "
      ]
     },
     "execution_count": 130,
     "metadata": {},
     "output_type": "execute_result"
    }
   ],
   "source": [
    "fun_md.head()"
   ]
  },
  {
   "cell_type": "code",
   "execution_count": 117,
   "metadata": {},
   "outputs": [],
   "source": [
    "## 16S\n",
    "\n",
    "# Extract the part from the 'Name' in run_md\n",
    "run_md['16S_ID'] = run_md['Name'].apply(lambda x: '-'.join(x.split('-')[-3:]))\n",
    "\n",
    "# merge\n",
    "bac_md = pd.merge(ctrl_md, run_md, left_on=ctrl_md['unique_16S_ID'], right_on=run_md['16S_ID'], how='left')\n",
    "bac_md.set_index('Name', inplace=True)\n",
    "bac_md.index.names = ['ID']\n",
    "bac_md.rename(columns={'Sample_ID':'Sample_Name'}, inplace=True)\n",
    "bac_md = bac_md[['Sample_Name', 'Ctrl', 'DNA_extraction_plate', 'Bacterial Conc']]\n",
    "# Convert the 'Bacterial Conc' column to numeric, forcing errors to NaN\n",
    "bac_md['Bacterial Conc'] = pd.to_numeric(bac_md['Bacterial Conc'], errors='coerce')\n",
    "# Replace NaN with 0 (optional, depends on how you want to handle NaNs)\n",
    "bac_md['Bacterial Conc'].fillna(0.01, inplace=True)\n",
    "# Replace negative values with 0\n",
    "bac_md['Bacterial Conc'] = bac_md['Bacterial Conc'].apply(lambda x: max(x, 0.01))\n",
    "\n",
    "bac_md.to_csv('/home/lfloerl/Compare-Mock-Communities/Metadata/NovaSeq6000_bac_metadata.tsv', sep='\\t')"
   ]
  },
  {
   "cell_type": "markdown",
   "metadata": {},
   "source": [
    "# ITS"
   ]
  },
  {
   "cell_type": "code",
   "execution_count": 155,
   "metadata": {},
   "outputs": [
    {
     "name": "stdout",
     "output_type": "stream",
     "text": [
      "/home/lfloerl/cloud/lfloerl/Alm-Microbiome/artifacts/ITS\n"
     ]
    }
   ],
   "source": [
    "wd = '/home/lfloerl/cloud/lfloerl/Alm-Microbiome/artifacts/ITS'\n",
    "%cd $wd "
   ]
  },
  {
   "cell_type": "code",
   "execution_count": 157,
   "metadata": {},
   "outputs": [],
   "source": [
    "rep_seqs = q2.Artifact.load('dada2-3/dada-rep-seqs.qza')\n",
    "md = Metadata.load('/home/lfloerl/Compare-Mock-Communities/Metadata/NovaSeq6000_fun_metadata.tsv')"
   ]
  },
  {
   "cell_type": "markdown",
   "metadata": {},
   "source": [
    "### Classify"
   ]
  },
  {
   "cell_type": "code",
   "execution_count": null,
   "metadata": {},
   "outputs": [],
   "source": [
    "fn = '/home/lfloerl/public/Data/Databases/QIIME2/UNITE/sh_qiime_release_10.05.2021/unite-ver8_99-classifier-10.05.2021.qza'\n",
    "classifier = Artifact.load(fn)\n",
    "\n",
    "taxonomy, = feature_classifier_actions.classify_sklearn(\n",
    "    classifier=classifier,\n",
    "    reads=rep_seqs,\n",
    "    n_jobs= 10)\n",
    "\n",
    "taxonomy_as_md_md = taxonomy.view(Metadata)\n",
    "taxonomy_viz, = metadata_actions.tabulate(\n",
    "    input=taxonomy_as_md_md)\n",
    "\n",
    "taxonomy.save('taxonomy.qza')\n",
    "taxonomy_viz.save('taxonomy.qzv')"
   ]
  },
  {
   "cell_type": "markdown",
   "metadata": {},
   "source": [
    "### Decontam "
   ]
  },
  {
   "cell_type": "code",
   "execution_count": null,
   "metadata": {},
   "outputs": [],
   "source": [
    "%%bash\n",
    "\n",
    "#mkdir Controls\n",
    "\n",
    "# first we need to subset the table to only contain our controls (decontam cannot handle samples missing in the metadata)\n",
    "qiime feature-table filter-samples \\\n",
    "  --i-table dada2-3/dada-table.qza \\\n",
    "  --m-metadata-file /home/lfloerl/Compare-Mock-Communities/Metadata/NovaSeq6000_fun_metadata.tsv \\\n",
    "  --o-filtered-table Controls/ctrl_md_filtered_table.qza\n",
    "\n",
    "qiime feature-table summarize --i-table  Controls/ctrl_md_filtered_table.qza --o-visualization  Controls/ctrl_md_filtered_table.qzv\n",
    "\n",
    "# DECONTAM \n",
    "qiime quality-control decontam-identify \\\n",
    "    --i-table Controls/ctrl_md_filtered_table.qza \\\n",
    "    --m-metadata-file /home/lfloerl/Compare-Mock-Communities/Metadata/NovaSeq6000_fun_metadata.tsv \\\n",
    "    --p-method 'combined' \\\n",
    "    --p-freq-concentration-column 'Fungal Conc' \\\n",
    "    --p-prev-control-column \"Ctrl\" \\\n",
    "    --p-prev-control-indicator \"neg\" \\\n",
    "    --o-decontam-scores Controls/decontam_scores.qza \\\n",
    "\n",
    "qiime quality-control decontam-score-viz \\\n",
    "    --i-decontam-scores Controls/decontam_scores.qza \\\n",
    "    --i-table Controls/ctrl_md_filtered_table.qza \\\n",
    "    --o-visualization Controls/decontam_histogram.qzv\n",
    "\n",
    "# actually remove the contaminations \n",
    "qiime quality-control decontam-remove \\\n",
    "    --i-decontam-scores Controls/decontam_scores.qza \\\n",
    "    --i-table Controls/ctrl_md_filtered_table.qza \\\n",
    "    --o-filtered-table Controls/decontam-table.qza \\\n",
    "\n",
    "qiime feature-table summarize --i-table Controls/decontam-table.qza --o-visualization Controls/decontam-table.qzv"
   ]
  },
  {
   "cell_type": "markdown",
   "metadata": {},
   "source": [
    "### Filter non-target seqs "
   ]
  },
  {
   "cell_type": "code",
   "execution_count": 123,
   "metadata": {},
   "outputs": [
    {
     "name": "stdout",
     "output_type": "stream",
     "text": [
      "\u001b[32mExported taxonomy.qza as TSVTaxonomyDirectoryFormat to directory taxonomy\u001b[0m\n",
      "\u001b[0m"
     ]
    },
    {
     "data": {
      "text/plain": [
       "969"
      ]
     },
     "execution_count": 123,
     "metadata": {},
     "output_type": "execute_result"
    }
   ],
   "source": [
    "# read in the whole list of taxa and lifestyles \n",
    "fungi_df = pd.read_csv('/home/lfloerl/RxCS/Metadata/UNITE-FungalTraits.csv')\n",
    "\n",
    "# these lifestyles are macrofungi! \n",
    "fruting_body_forming = ['agaricoid',\n",
    " 'apothecium_(hymenium on surface)',\n",
    " 'clathroid',\n",
    " 'clavarioid',\n",
    " 'corticioid',\n",
    " 'cyphelloid',\n",
    " 'gasteroid',\n",
    " 'gasteroid-hypogeous',\n",
    " 'hysterothecium_(opening_slith-like)',\n",
    " 'mazaedium_(pushpin-like)',\n",
    " 'phalloid',\n",
    " 'polyporoid',\n",
    " 'tremelloid']\n",
    "\n",
    "# filter accordingly \n",
    "matching_taxons = fungi_df[fungi_df['Fruitbody_type_template'].isin(fruting_body_forming)]['Taxon'].tolist()\n",
    "\n",
    "# we export the taxonomy \n",
    "!qiime tools export --input-path taxonomy.qza --output-path taxonomy \n",
    "\n",
    "# and import as df to get all Taxons we actually identified\n",
    "taxonomy_df = pd.read_csv('taxonomy/taxonomy.tsv', sep='\\t')\n",
    "\n",
    "filtered_matching_taxons = [taxon for taxon in matching_taxons if taxon in taxonomy_df['Taxon'].tolist()]\n",
    "\n",
    "# actual taxons we need to filter out of our FeatureTable \n",
    "len(filtered_matching_taxons)"
   ]
  },
  {
   "cell_type": "code",
   "execution_count": 124,
   "metadata": {},
   "outputs": [
    {
     "name": "stdout",
     "output_type": "stream",
     "text": [
      "Unique genera:\n",
      "['Auriculariaceae', 'Phallaceae', 'Cyphellaceae', 'Cystostereaceae', 'Russulales_fam_Incertae_sedis', 'Hygrophoropsidaceae', 'Vuilleminiaceae', 'Stephanosporaceae', 'Fomitopsidaceae', 'Amylocorticiaceae', 'Stereopsidaceae', 'Meruliaceae', 'Entolomataceae', 'Radulomycetaceae', 'Stereaceae', 'Corticiaceae', 'Russulaceae', 'Jaapiaceae', 'Ganodermataceae', 'Crepidotaceae', 'Coniophoraceae', 'Phanerochaetaceae', 'Ceratobasidiaceae', 'Sclerodermataceae', 'Boletales_fam_Incertae_sedis', 'Schizoporaceae', 'Hymenochaetaceae', 'Gomphaceae', 'Strophariaceae', 'Meripilaceae', 'Porotheleaceae', 'Schizophyllaceae', 'Bankeraceae', 'Byssocorticiaceae', 'Hymenogastraceae', 'Steccherinaceae', 'Atheliaceae', 'Auriscalpiaceae', 'Omphalotaceae', 'Bondarzewiaceae', 'Boletaceae', 'Tricholomataceae', 'Bolbitiaceae', 'Gloeophyllaceae', 'Cortinariaceae', 'Hyaloriaceae', 'Hyphodermataceae', 'Hygrophoraceae', 'Panaceae', 'Clavariaceae', 'Botryobasidiaceae', 'Pleurotaceae', 'Lycoperdaceae', 'Physalacriaceae', 'Lachnocladiaceae', 'Paxillaceae', 'Typhulaceae', 'Hymenochaetales_fam_Incertae_sedis', 'Ischnodermataceae', 'Irpicaceae', 'Polyporales_fam_Incertae_sedis', 'Polyporaceae', 'Thelephoraceae', 'Nidulariaceae', 'Podoscyphaceae', 'Geastraceae', 'Cerrenaceae', 'Tapinellaceae', 'Hydnodontaceae', 'Lyophyllaceae', 'Marasmiaceae', 'Peniophoraceae', 'Suillaceae', 'Inocybaceae', 'Pluteaceae', 'Amanitaceae', 'Hericiaceae', 'Agaricaceae', 'Pterulaceae', 'Psathyrellaceae']\n",
      "\n",
      " Lenght: \n",
      "80\n",
      "\n",
      " Just checking - any entries without?\n",
      "[]\n"
     ]
    }
   ],
   "source": [
    "# Set to hold unique genera\n",
    "unique_entries = set()\n",
    "\n",
    "# List to hold entries without 'f__'\n",
    "entries_without_f = []\n",
    "\n",
    "# Process each string in the list\n",
    "for entry in filtered_matching_taxons:\n",
    "    # Find the start and end of the substring to extract\n",
    "    start_index = entry.find('f__')\n",
    "    \n",
    "    if start_index != -1:\n",
    "        start_index += len('f__')\n",
    "        end_index = entry.find(';g__')\n",
    "        \n",
    "        if end_index != -1 and end_index > start_index:\n",
    "            # Extract the substring between 'f__' and ';g'\n",
    "            substring = entry[start_index:end_index]\n",
    "            # Add the substring to the set of unique entries\n",
    "            unique_entries.add(substring)\n",
    "    else:\n",
    "        # If 'f__' is not found, add the entry to the list of entries without 'f__'\n",
    "        entries_without_f.append(entry)\n",
    "\n",
    "# Convert the set of unique entries to a list\n",
    "unique_list = list(unique_entries)\n",
    "\n",
    "# Output the results\n",
    "print(\"Unique genera:\")\n",
    "print(unique_list)\n",
    "print('\\n Lenght: ')\n",
    "print(len(unique_list))\n",
    "print(\"\\n Just checking - any entries without?\")\n",
    "print(entries_without_f)"
   ]
  },
  {
   "cell_type": "code",
   "execution_count": 126,
   "metadata": {},
   "outputs": [
    {
     "data": {
      "text/plain": [
       "'Auriculariaceae,Phallaceae,Cyphellaceae,Cystostereaceae,Russulales_fam_Incertae_sedis,Hygrophoropsidaceae,Vuilleminiaceae,Stephanosporaceae,Fomitopsidaceae,Amylocorticiaceae,Stereopsidaceae,Meruliaceae,Entolomataceae,Radulomycetaceae,Stereaceae,Corticiaceae,Russulaceae,Jaapiaceae,Ganodermataceae,Crepidotaceae,Coniophoraceae,Phanerochaetaceae,Ceratobasidiaceae,Sclerodermataceae,Boletales_fam_Incertae_sedis,Schizoporaceae,Hymenochaetaceae,Gomphaceae,Strophariaceae,Meripilaceae,Porotheleaceae,Schizophyllaceae,Bankeraceae,Byssocorticiaceae,Hymenogastraceae,Steccherinaceae,Atheliaceae,Auriscalpiaceae,Omphalotaceae,Bondarzewiaceae,Boletaceae,Tricholomataceae,Bolbitiaceae,Gloeophyllaceae,Cortinariaceae,Hyaloriaceae,Hyphodermataceae,Hygrophoraceae,Panaceae,Clavariaceae,Botryobasidiaceae,Pleurotaceae,Lycoperdaceae,Physalacriaceae,Lachnocladiaceae,Paxillaceae,Typhulaceae,Hymenochaetales_fam_Incertae_sedis,Ischnodermataceae,Irpicaceae,Polyporales_fam_Incertae_sedis,Polyporaceae,Thelephoraceae,Nidulariaceae,Podoscyphaceae,Geastraceae,Cerrenaceae,Tapinellaceae,Hydnodontaceae,Lyophyllaceae,Marasmiaceae,Peniophoraceae,Suillaceae,Inocybaceae,Pluteaceae,Amanitaceae,Hericiaceae,Agaricaceae,Pterulaceae,Psathyrellaceae'"
      ]
     },
     "execution_count": 126,
     "metadata": {},
     "output_type": "execute_result"
    }
   ],
   "source": [
    "# we use these to filter our FeatureTable \n",
    "exclude_fungi_list = ','.join(unique_list)\n",
    "exclude_fungi_list"
   ]
  },
  {
   "cell_type": "code",
   "execution_count": 156,
   "metadata": {},
   "outputs": [
    {
     "name": "stdout",
     "output_type": "stream",
     "text": [
      "Saved FeatureTable[Frequency] to: Controls/non_target_filtered_table.qza\n",
      "Saved FeatureTable[Frequency] to: Controls/pos_ctrl_table.qza\n",
      "Saved FeatureTable[Frequency] to: Controls/filtered_pos_ctrl_table.qza\n"
     ]
    }
   ],
   "source": [
    "%%bash \n",
    "\n",
    "filter='Auriculariaceae,Phallaceae,Cyphellaceae,Cystostereaceae,Russulales_fam_Incertae_sedis,Hygrophoropsidaceae,Vuilleminiaceae,Stephanosporaceae,Fomitopsidaceae,Amylocorticiaceae,Stereopsidaceae,Meruliaceae,Entolomataceae,Radulomycetaceae,Stereaceae,Corticiaceae,Russulaceae,Jaapiaceae,Ganodermataceae,Crepidotaceae,Coniophoraceae,Phanerochaetaceae,Ceratobasidiaceae,Sclerodermataceae,Boletales_fam_Incertae_sedis,Schizoporaceae,Hymenochaetaceae,Gomphaceae,Strophariaceae,Meripilaceae,Porotheleaceae,Schizophyllaceae,Bankeraceae,Byssocorticiaceae,Hymenogastraceae,Steccherinaceae,Atheliaceae,Auriscalpiaceae,Omphalotaceae,Bondarzewiaceae,Boletaceae,Tricholomataceae,Bolbitiaceae,Gloeophyllaceae,Cortinariaceae,Hyaloriaceae,Hyphodermataceae,Hygrophoraceae,Panaceae,Clavariaceae,Botryobasidiaceae,Pleurotaceae,Lycoperdaceae,Physalacriaceae,Lachnocladiaceae,Paxillaceae,Typhulaceae,Hymenochaetales_fam_Incertae_sedis,Ischnodermataceae,Irpicaceae,Polyporales_fam_Incertae_sedis,Polyporaceae,Thelephoraceae,Nidulariaceae,Podoscyphaceae,Geastraceae,Cerrenaceae,Tapinellaceae,Hydnodontaceae,Lyophyllaceae,Marasmiaceae,Peniophoraceae,Suillaceae,Inocybaceae,Pluteaceae,Amanitaceae,Hericiaceae,Agaricaceae,Pterulaceae,Psathyrellaceae'\n",
    "\n",
    "# mushrooms \n",
    "qiime taxa filter-table \\\n",
    "    --i-table Controls/decontam-table.qza \\\n",
    "    --i-taxonomy taxonomy.qza \\\n",
    "    --p-exclude $filter \\\n",
    "    --p-include p__ \\\n",
    "    --o-filtered-table Controls/non_target_filtered_table.qza\n",
    "\n",
    "qiime feature-table filter-samples \\\n",
    "    --i-table dada2-3/dada-table.qza \\\n",
    "    --m-metadata-file /home/lfloerl/Compare-Mock-Communities/Metadata/NovaSeq6000_fun_metadata.tsv \\\n",
    "    --p-where \"[Ctrl]='pos'\" \\\n",
    "    --o-filtered-table Controls/pos_ctrl_table.qza\n",
    "\n",
    "qiime feature-table filter-samples \\\n",
    "    --i-table dada2-3/dada-table.qza \\\n",
    "    --m-metadata-file /home/lfloerl/Compare-Mock-Communities/Metadata/NovaSeq6000_fun_metadata.tsv \\\n",
    "    --p-where \"[Sample_Name] IN ('DNA24_PosCtrl_2','DNA26_PosCtrl_2','DNA30_PosCtrl_3','DNA30_PosCtrl_1','DNA29_PosCtrl_3','DNA28_PosCtrl_1','DNA26_PosCtrl_1','ctrl positive p6','ctrl positive p1','ctrl positive p3','DNA29_PosCtrl_2','DNA29_PosCtrl_1','DNA24_PosCtrl_1','DNA27_PosCtrl_20')\" \\\n",
    "    --o-filtered-table Controls/filtered_pos_ctrl_table.qza"
   ]
  },
  {
   "cell_type": "markdown",
   "metadata": {},
   "source": [
    "## Taxa Barplot"
   ]
  },
  {
   "cell_type": "code",
   "execution_count": 158,
   "metadata": {},
   "outputs": [
    {
     "data": {
      "text/plain": [
       "'Controls/taxa_barplot_all.qzv'"
      ]
     },
     "execution_count": 158,
     "metadata": {},
     "output_type": "execute_result"
    }
   ],
   "source": [
    "table = q2.Artifact.load('Controls/filtered_pos_ctrl_table.qza')\n",
    "taxonomy =  q2.Artifact.load('taxonomy.qza')\n",
    "md = Metadata.load('/home/lfloerl/Compare-Mock-Communities/Metadata/NovaSeq6000_fun_metadata.tsv')\n",
    "\n",
    "taxa_bar_plots_viz, = taxa_actions.barplot(\n",
    "    table=table,\n",
    "    taxonomy=taxonomy,\n",
    "    metadata=md\n",
    ")\n",
    "taxa_bar_plots_viz.save('Controls/taxa_barplot_all.qzv')"
   ]
  },
  {
   "cell_type": "markdown",
   "metadata": {},
   "source": [
    "# 16S"
   ]
  },
  {
   "cell_type": "code",
   "execution_count": 159,
   "metadata": {},
   "outputs": [
    {
     "name": "stdout",
     "output_type": "stream",
     "text": [
      "/home/lfloerl/cloud/lfloerl/Alm-Microbiome/artifacts/16S\n"
     ]
    }
   ],
   "source": [
    "wd = '/home/lfloerl/cloud/lfloerl/Alm-Microbiome/artifacts/16S'\n",
    "%cd $wd "
   ]
  },
  {
   "cell_type": "code",
   "execution_count": 160,
   "metadata": {},
   "outputs": [],
   "source": [
    "md = Metadata.load('/home/lfloerl/Compare-Mock-Communities/Metadata/NovaSeq6000_bac_metadata.tsv')"
   ]
  },
  {
   "cell_type": "markdown",
   "metadata": {},
   "source": [
    "### Classify"
   ]
  },
  {
   "cell_type": "code",
   "execution_count": 135,
   "metadata": {},
   "outputs": [
    {
     "name": "stdout",
     "output_type": "stream",
     "text": [
      "Saved FeatureData[Taxonomy] to: taxonomy.qza\n",
      "Saved Visualization to: taxonomy.qzv\n"
     ]
    }
   ],
   "source": [
    "%%bash \n",
    "\n",
    "qiime feature-classifier classify-sklearn \\\n",
    "    --i-reads  \\\n",
    "    --i-classifier /home/floerl/public/Data/Databases/QIIME2/SILVA/silva-138-99-515-806-nb-classifier.qza \\\n",
    "    --p-n-jobs 10 \\\n",
    "    --o-classification taxonomy.qza\n",
    "\n",
    "qiime metadata tabulate --m-input-file taxonomy.qza --o-visualization taxonomy.qzv"
   ]
  },
  {
   "cell_type": "markdown",
   "metadata": {},
   "source": [
    "### Decontam "
   ]
  },
  {
   "cell_type": "code",
   "execution_count": null,
   "metadata": {},
   "outputs": [],
   "source": [
    "%%bash\n",
    "\n",
    "mkdir Controls\n",
    "\n",
    "# first we need to subset the table to only contain our controls (decontam cannot handle samples missing in the metadata)\n",
    "qiime feature-table filter-samples \\\n",
    "  --i-table dada2-2/dada-table.qza \\\n",
    "  --m-metadata-file /home/lfloerl/Compare-Mock-Communities/Metadata/NovaSeq6000_bac_metadata.tsv \\\n",
    "  --o-filtered-table Controls/ctrl_md_filtered_table.qza\n",
    "\n",
    "qiime feature-table summarize --i-table Controls/ctrl_md_filtered_table.qza --o-visualization Controls/ctrl_md_filtered_table.qzv\n",
    "\n",
    "# DECONTAM \n",
    "qiime quality-control decontam-identify \\\n",
    "    --i-table Controls/ctrl_md_filtered_table.qza \\\n",
    "    --m-metadata-file /home/lfloerl/Compare-Mock-Communities/Metadata/NovaSeq6000_bac_metadata.tsv \\\n",
    "    --p-method 'combined' \\\n",
    "    --p-freq-concentration-column 'Bacterial Conc' \\\n",
    "    --p-prev-control-column \"Ctrl\" \\\n",
    "    --p-prev-control-indicator \"neg\" \\\n",
    "    --o-decontam-scores Controls/decontam_scores.qza \\\n",
    "\n",
    "qiime quality-control decontam-score-viz \\\n",
    "    --i-decontam-scores Controls/decontam_scores.qza \\\n",
    "    --i-table Controls/ctrl_md_filtered_table.qza \\\n",
    "    --o-visualization Controls/decontam_histogram.qzv\n",
    "\n",
    "# actually remove the contaminations \n",
    "qiime quality-control decontam-remove \\\n",
    "    --i-decontam-scores Controls/decontam_scores.qza \\\n",
    "    --i-table Controls/ctrl_md_filtered_table.qza \\\n",
    "    --o-filtered-table Controls/decontam-table.qza \\\n",
    "\n",
    "qiime feature-table summarize --i-table Controls/decontam-table.qza --o-visualization Controls/decontam-table.qzv"
   ]
  },
  {
   "cell_type": "markdown",
   "metadata": {},
   "source": [
    "### Filter"
   ]
  },
  {
   "cell_type": "code",
   "execution_count": 161,
   "metadata": {},
   "outputs": [
    {
     "name": "stdout",
     "output_type": "stream",
     "text": [
      "\u001b[32mSaved Visualization to: Controls/chloroplast_mitochondria_filtered_table.qzv\u001b[0m\n",
      "\u001b[0m"
     ]
    }
   ],
   "source": [
    "taxonomy = q2.Artifact.load('taxonomy.qza')\n",
    "decontam_table = q2.Artifact.load('Controls/decontam-table.qza')\n",
    "\n",
    "# check how many mitochondria \n",
    "exclude_terms = 'mitochondria,chloroplast,Eukaryota,Archaea'\n",
    "\n",
    "md_filtered_table, = filter_samples(table=decontam_table,\n",
    "                                metadata=md, where=\"[ctrl]='pos'\")\n",
    "\n",
    "md_filtered_table2, = filter_samples(table=md_filtered_table,\n",
    "                                metadata=md, where=\"[Sample_Name] IN ('DNA24_PosCtrl_2','DNA26_PosCtrl_2','DNA30_PosCtrl_3','DNA30_PosCtrl_1','DNA29_PosCtrl_3','DNA28_PosCtrl_1','DNA26_PosCtrl_1','ctrl positive p6','ctrl positive p1','ctrl positive p3','DNA29_PosCtrl_2','DNA29_PosCtrl_1','DNA24_PosCtrl_1','DNA27_PosCtrl_20')\")\n",
    "                                \n",
    "taxa_filtered_table, = q2t.actions.filter_table(\n",
    "                                table=md_filtered_table2, \n",
    "                                taxonomy=taxonomy,\n",
    "                                exclude=exclude_terms,\n",
    "                                include='p__')\n",
    "                                \n",
    "taxa_filtered_table.save('Controls/chloroplast_mitochondria_filtered_table.qza')\n",
    "\n",
    "!qiime feature-table summarize --i-table Controls/chloroplast_mitochondria_filtered_table.qza --o-visualization Controls/chloroplast_mitochondria_filtered_table.qzv"
   ]
  },
  {
   "cell_type": "markdown",
   "metadata": {},
   "source": [
    "### Taxa Barplot"
   ]
  },
  {
   "cell_type": "code",
   "execution_count": 162,
   "metadata": {},
   "outputs": [
    {
     "data": {
      "text/plain": [
       "'Controls/taxa_barplot_all.qzv'"
      ]
     },
     "execution_count": 162,
     "metadata": {},
     "output_type": "execute_result"
    }
   ],
   "source": [
    "#table = q2.Artifact.load('Controls/pos_ctrl_table.qza')\n",
    "\n",
    "taxa_bar_plots_viz, = taxa_actions.barplot(\n",
    "    table=taxa_filtered_table,\n",
    "    taxonomy=taxonomy,\n",
    "    metadata=md\n",
    ")\n",
    "taxa_bar_plots_viz.save('Controls/taxa_barplot_all.qzv')"
   ]
  },
  {
   "cell_type": "code",
   "execution_count": null,
   "metadata": {},
   "outputs": [],
   "source": []
  }
 ],
 "metadata": {
  "kernelspec": {
   "display_name": "qiime2-amplicon-2024.2",
   "language": "python",
   "name": "python3"
  },
  "language_info": {
   "codemirror_mode": {
    "name": "ipython",
    "version": 3
   },
   "file_extension": ".py",
   "mimetype": "text/x-python",
   "name": "python",
   "nbconvert_exporter": "python",
   "pygments_lexer": "ipython3",
   "version": "3.8.15"
  }
 },
 "nbformat": 4,
 "nbformat_minor": 2
}
